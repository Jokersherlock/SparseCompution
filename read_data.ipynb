{
 "cells": [
  {
   "cell_type": "code",
   "execution_count": 10,
   "metadata": {},
   "outputs": [
    {
     "name": "stdout",
     "output_type": "stream",
     "text": [
      "[1.        0.        0.        ... 0.0097275 0.0063515 0.057465 ]\n"
     ]
    }
   ],
   "source": [
    "import numpy as np\n",
    "\n",
    "def read_large_txt_to_1d_numpy(filename):\n",
    "    data = []\n",
    "    with open(filename, 'r') as file:\n",
    "        for line in file:\n",
    "            # 去掉行首尾的括号和空格\n",
    "            line = line.strip().replace(\"[\", \"\").replace(\"]\", \"\")\n",
    "            # 将字符串中的数字转换为float并追加到列表中\n",
    "            if line:\n",
    "                row = np.fromstring(line, sep=' ')\n",
    "                data.extend(row)  # 使用extend将每行的数据添加到列表中\n",
    "    \n",
    "    # 将数据列表转换为一维numpy array\n",
    "    data_array = np.array(data)\n",
    "    return data_array\n",
    "\n",
    "filename = 'softmax_o.txt'\n",
    "numpy_array = read_large_txt_to_1d_numpy(filename)\n",
    "\n",
    "print(numpy_array)\n"
   ]
  },
  {
   "cell_type": "code",
   "execution_count": 13,
   "metadata": {},
   "outputs": [],
   "source": [
    "reshaped_array = numpy_array.reshape((32,2048,2048))"
   ]
  },
  {
   "cell_type": "code",
   "execution_count": 14,
   "metadata": {},
   "outputs": [],
   "source": [
    "processed_array = np.where(reshaped_array != 0, 1, 0).astype(int)"
   ]
  },
  {
   "cell_type": "code",
   "execution_count": 62,
   "metadata": {},
   "outputs": [
    {
     "data": {
      "text/plain": [
       "104.216796875"
      ]
     },
     "execution_count": 62,
     "metadata": {},
     "output_type": "execute_result"
    }
   ],
   "source": [
    "def judge_similar(head,stride):\n",
    "    array = processed_array[head]\n",
    "    similars = []\n",
    "    for i in range(2048):\n",
    "        k = (i+stride)%2048\n",
    "        similar = np.sum(array[i]&array[k])\n",
    "        similars.append(similar)\n",
    "    similars = np.array(similars)\n",
    "    # print(f\"pad={pad},similars:{similars}\")\n",
    "    # print(\"average:\",np.average(similars))\n",
    "    return np.average(similars)\n",
    "\n",
    "judge_similar(0,1)\n"
   ]
  },
  {
   "cell_type": "code",
   "execution_count": 63,
   "metadata": {},
   "outputs": [
    {
     "name": "stdout",
     "output_type": "stream",
     "text": [
      "32个head：[104.21679688  80.69384766 103.66552734 106.33789062 107.08056641\n",
      "  95.90478516  90.07226562  88.91992188  86.81738281  88.22070312\n",
      "  92.02441406 105.10058594  85.52832031 109.25048828  92.72412109\n",
      "  93.35400391  87.29296875  83.04101562  92.61523438  82.21679688\n",
      " 100.57128906  96.63427734  54.88916016  91.9140625   86.92822266\n",
      "  95.54052734  96.49316406 103.06347656  91.02246094  99.93457031\n",
      "  89.68212891 103.94677734]\n",
      "总平均数： 93.30305480957031\n"
     ]
    }
   ],
   "source": [
    "similars = []\n",
    "for i in range(32):\n",
    "    similars.append(judge_similar(i,1))\n",
    "similars = np.array(similars)\n",
    "print(f\"32个head：{similars}\")\n",
    "print(\"总平均数：\",np.average(similars))    \n"
   ]
  },
  {
   "cell_type": "code",
   "execution_count": 50,
   "metadata": {},
   "outputs": [
    {
     "name": "stdout",
     "output_type": "stream",
     "text": [
      "126\n",
      "576\n",
      "1498\n",
      "1684\n",
      "1794\n",
      "1847\n"
     ]
    }
   ],
   "source": [
    "for i in range(2048):\n",
    "    if(i>=126):\n",
    "        if np.sum(processed_array[1][i])  >= 128:\n",
    "            print(i)"
   ]
  },
  {
   "cell_type": "code",
   "execution_count": 61,
   "metadata": {},
   "outputs": [
    {
     "name": "stdout",
     "output_type": "stream",
     "text": [
      "61382 74\n"
     ]
    }
   ],
   "source": [
    "cnt1 = 0\n",
    "cnt2 = 0\n",
    "for k in range(32):\n",
    "    # print(f\"head={k}\")\n",
    "    for i in range(2048):\n",
    "        if(i>126):\n",
    "            if np.sum(processed_array[k][i])  >= 128:\n",
    "                cnt1 = cnt1 + 1\n",
    "        else:\n",
    "            if np.sum(processed_array[k][i]) != i + 1:\n",
    "                cnt2 = cnt2 + 1\n",
    "print(cnt1,cnt2)"
   ]
  },
  {
   "cell_type": "code",
   "execution_count": null,
   "metadata": {},
   "outputs": [],
   "source": []
  }
 ],
 "metadata": {
  "kernelspec": {
   "display_name": "work",
   "language": "python",
   "name": "python3"
  },
  "language_info": {
   "codemirror_mode": {
    "name": "ipython",
    "version": 3
   },
   "file_extension": ".py",
   "mimetype": "text/x-python",
   "name": "python",
   "nbconvert_exporter": "python",
   "pygments_lexer": "ipython3",
   "version": "3.7.16"
  }
 },
 "nbformat": 4,
 "nbformat_minor": 2
}
